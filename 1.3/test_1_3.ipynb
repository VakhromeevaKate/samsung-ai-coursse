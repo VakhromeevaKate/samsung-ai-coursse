{
 "cells": [
  {
   "cell_type": "markdown",
   "metadata": {},
   "source": [
    "Заполните пропуски так, чтобы после выполнения второй строки кода, количество элементов в матрице увеличилось на  4."
   ]
  },
  {
   "cell_type": "code",
   "execution_count": null,
   "metadata": {},
   "outputs": [],
   "source": [
    "import pandas as pd\n",
    "import numpy as np"
   ]
  },
  {
   "cell_type": "code",
   "execution_count": 7,
   "metadata": {},
   "outputs": [],
   "source": [
    "df = pd.DataFrame(data=np.arange(20).reshape(4, 5),columns=list('abcde'))"
   ]
  },
  {
   "cell_type": "code",
   "execution_count": 8,
   "metadata": {},
   "outputs": [],
   "source": [
    "df['f'] = df['a']+ df['b']+ df['c']+ df['d']+ df['e']"
   ]
  },
  {
   "cell_type": "markdown",
   "metadata": {},
   "source": [
    "Проверить, есть ли пустые значения"
   ]
  },
  {
   "cell_type": "code",
   "execution_count": 44,
   "metadata": {},
   "outputs": [
    {
     "data": {
      "text/plain": [
       "['Unnamed: 0', '0', '1']"
      ]
     },
     "execution_count": 44,
     "metadata": {},
     "output_type": "execute_result"
    }
   ],
   "source": [
    "import numpy as np\n",
    "import pandas as pd\n",
    "\n",
    "df = pd.read_csv('input.csv') #, header=None)\n",
    "\n",
    "list(df)\n",
    "\n",
    "# df.values\n",
    "\n",
    "# df.columns.values\n",
    "\n",
    "# df.isnull().any(axis=None)\n"
   ]
  },
  {
   "cell_type": "markdown",
   "metadata": {},
   "source": [
    "Определите во входном файле csv максимальные абсолютные значения корреляций с другими столбцами каждого столбца. Первая строка содержит номера столбцов, первый столбец содержит индексы строк. Ответ выведите в виде списка, где на первом месте будет максимальное значение корреляции первого столбца, затем второго и т.д. Значение корреляций округляйте до двух цифр после запятой. Если значение корреляции равно 1, то выводите 1.0\n",
    "\n",
    "Если столбец всего один, то необходимо вывести [1.0]\n",
    "\n",
    "Если используемые вами методы приводят к значению nan, то обработайте его как 0.0"
   ]
  },
  {
   "cell_type": "code",
   "execution_count": 46,
   "metadata": {},
   "outputs": [
    {
     "name": "stdout",
     "output_type": "stream",
     "text": [
      "     0  1  2\n",
      "0  NaN  0  1\n",
      "1  0.0  1  1\n",
      "2  1.0  2  2\n"
     ]
    },
    {
     "data": {
      "text/plain": [
       "0.8660254037844387"
      ]
     },
     "execution_count": 46,
     "metadata": {},
     "output_type": "execute_result"
    }
   ],
   "source": [
    "import numpy as np\n",
    "import pandas as pd\n",
    "\n",
    "df = pd.read_csv('input2.csv', header=None)\n",
    "\n",
    "print(df)\n",
    "\n",
    "df[1].corr(df[2])\n",
    "\n"
   ]
  }
 ],
 "metadata": {
  "kernelspec": {
   "display_name": "Python 3",
   "language": "python",
   "name": "python3"
  },
  "language_info": {
   "codemirror_mode": {
    "name": "ipython",
    "version": 3
   },
   "file_extension": ".py",
   "mimetype": "text/x-python",
   "name": "python",
   "nbconvert_exporter": "python",
   "pygments_lexer": "ipython3",
   "version": "3.9.6"
  },
  "orig_nbformat": 4
 },
 "nbformat": 4,
 "nbformat_minor": 2
}
