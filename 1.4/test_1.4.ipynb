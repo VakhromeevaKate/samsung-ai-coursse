{
 "cells": [
  {
   "cell_type": "markdown",
   "metadata": {},
   "source": [
    "Оцените значение корреляции для величин\n",
    "[3, 5, 3, 6, 7, 2, 1, 0, 15, 4] и\n",
    "[-3, -2, 6, 8, 4, 1, 0, 8, 2, 8].\n",
    "Ответ округлите до двух значащих цифр после запятой."
   ]
  },
  {
   "cell_type": "code",
   "execution_count": 8,
   "metadata": {},
   "outputs": [
    {
     "name": "stdout",
     "output_type": "stream",
     "text": [
      "   first  second\n",
      "0      3      -3\n",
      "1      5      -2\n",
      "2      3       6\n",
      "3      6       8\n",
      "4      7       4\n",
      "5      2       1\n",
      "6      1       0\n",
      "7      0       8\n",
      "8     15       2\n",
      "9      4       8\n"
     ]
    },
    {
     "data": {
      "text/plain": [
       "0     3\n",
       "1     5\n",
       "2     3\n",
       "3     6\n",
       "4     7\n",
       "5     2\n",
       "6     1\n",
       "7     0\n",
       "8    15\n",
       "9     4\n",
       "Name: first, dtype: int64"
      ]
     },
     "execution_count": 8,
     "metadata": {},
     "output_type": "execute_result"
    }
   ],
   "source": [
    "import numpy as np\n",
    "import pandas as pd\n",
    "\n",
    "first = np.array([3, 5, 3, 6, 7, 2, 1, 0, 15, 4])\n",
    "second = np.array([-3, -2, 6, 8, 4, 1, 0, 8, 2, 8])\n",
    "\n",
    "df = pd.DataFrame({\n",
    "    'first': first,\n",
    "    'second': second\n",
    "    })\n",
    "print(df)\n",
    "\n",
    "df['first'].corr(df['second'])\n"
   ]
  }
 ],
 "metadata": {
  "kernelspec": {
   "display_name": "Python 3",
   "language": "python",
   "name": "python3"
  },
  "language_info": {
   "codemirror_mode": {
    "name": "ipython",
    "version": 3
   },
   "file_extension": ".py",
   "mimetype": "text/x-python",
   "name": "python",
   "nbconvert_exporter": "python",
   "pygments_lexer": "ipython3",
   "version": "3.9.6"
  }
 },
 "nbformat": 4,
 "nbformat_minor": 2
}
